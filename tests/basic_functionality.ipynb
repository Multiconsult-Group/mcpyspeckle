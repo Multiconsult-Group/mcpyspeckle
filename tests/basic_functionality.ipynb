{
 "cells": [
  {
   "cell_type": "markdown",
   "metadata": {},
   "source": [
    "# Demonstration of functionality in `mcpyspeckle`"
   ]
  },
  {
   "cell_type": "markdown",
   "metadata": {},
   "source": [
    "__Import__ relevant modules"
   ]
  },
  {
   "cell_type": "code",
   "execution_count": 1,
   "metadata": {},
   "outputs": [],
   "source": [
    "import speckle\n",
    "import sys\n",
    "\n",
    "sys.path.insert(1, '..\\\\')\n",
    "import mcpyspeckle"
   ]
  },
  {
   "cell_type": "markdown",
   "metadata": {},
   "source": [
    "__Test function__ `login_to_client_with_token_file()`"
   ]
  },
  {
   "cell_type": "code",
   "execution_count": 2,
   "metadata": {
    "scrolled": true
   },
   "outputs": [
    {
     "name": "stdout",
     "output_type": "stream",
     "text": [
      "<speckle.SpeckleClient.SpeckleApiClient object at 0x0000022D7641F710>\n",
      "None\n"
     ]
    }
   ],
   "source": [
    "client_url = 'speckle.multiconsult.no'\n",
    "token_file = 'speckle_api_token.txt'\n",
    "client, login_status = mcpyspeckle.login_to_client_with_token_file(\n",
    "    client_url=client_url,\n",
    "    token_file=token_file\n",
    ")\n",
    "print(client)\n",
    "print(login_status)"
   ]
  },
  {
   "cell_type": "markdown",
   "metadata": {},
   "source": [
    "__Test function__ `get_parameter_list()`"
   ]
  },
  {
   "cell_type": "code",
   "execution_count": 3,
   "metadata": {},
   "outputs": [
    {
     "name": "stdout",
     "output_type": "stream",
     "text": [
      "{'diameter': 18.0, 'height': 50.0, 'thickness': 0.5, 'name': 'Silo', 'angle': 85.0}\n"
     ]
    }
   ],
   "source": [
    "stream_id = 'xd-jHRnYP'\n",
    "parameter_list = mcpyspeckle.get_parameter_list(\n",
    "    client=client,\n",
    "    stream_id=stream_id\n",
    ")\n",
    "print(parameter_list)"
   ]
  },
  {
   "cell_type": "markdown",
   "metadata": {},
   "source": [
    "__Test function__ `create_parameter_list()`"
   ]
  },
  {
   "cell_type": "code",
   "execution_count": 10,
   "metadata": {},
   "outputs": [
    {
     "name": "stdout",
     "output_type": "stream",
     "text": [
      "Stream 'Dummy parameter list' already exists on client.\n",
      "Deleted stream 'dykLYgiEg'\n",
      "xd-jHRnYP\n"
     ]
    }
   ],
   "source": [
    "parameter_list = {\n",
    "    'diameter':18.0,\n",
    "    'height':50.0,\n",
    "    'thickness':0.5,\n",
    "    'name':'Silo'\n",
    "}\n",
    "stream_name = 'Dummy parameter list'\n",
    "stream_id = mcpyspeckle.create_parameter_list(\n",
    "    client=client,\n",
    "    stream_name=stream_name,\n",
    "    parameter_list=parameter_list,\n",
    "    force_create_and_delete=True\n",
    ")\n",
    "print(stream_id)"
   ]
  },
  {
   "cell_type": "markdown",
   "metadata": {},
   "source": [
    "__Test function__ `update_parameter_list()`"
   ]
  },
  {
   "cell_type": "code",
   "execution_count": 4,
   "metadata": {
    "scrolled": false
   },
   "outputs": [
    {
     "name": "stdout",
     "output_type": "stream",
     "text": [
      "{'diameter': 18.0, 'height': 50.0, 'thickness': 0.5, 'name': 'Silo', 'angle': 85.0}\n"
     ]
    }
   ],
   "source": [
    "parameter_list_update = {\n",
    "    'name':'Silo',\n",
    "    'angle':85.0\n",
    "}\n",
    "stream_id = 'xd-jHRnYP'\n",
    "mcpyspeckle.update_parameter_list(\n",
    "    client=client,\n",
    "    stream_id=stream_id,\n",
    "    parameter_list=parameter_list_update\n",
    ")\n",
    "\n",
    "updated_parameter_list = mcpyspeckle.get_parameter_list(\n",
    "    client=client, stream_id=stream_id\n",
    ")\n",
    "print(updated_parameter_list)"
   ]
  },
  {
   "cell_type": "code",
   "execution_count": null,
   "metadata": {},
   "outputs": [],
   "source": []
  }
 ],
 "metadata": {
  "kernelspec": {
   "display_name": "Python 3",
   "language": "python",
   "name": "python3"
  },
  "language_info": {
   "codemirror_mode": {
    "name": "ipython",
    "version": 3
   },
   "file_extension": ".py",
   "mimetype": "text/x-python",
   "name": "python",
   "nbconvert_exporter": "python",
   "pygments_lexer": "ipython3",
   "version": "3.7.2"
  }
 },
 "nbformat": 4,
 "nbformat_minor": 4
}
